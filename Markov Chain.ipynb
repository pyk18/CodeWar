{
 "cells": [
  {
   "cell_type": "code",
   "execution_count": 1,
   "metadata": {},
   "outputs": [
    {
     "data": {
      "text/plain": [
       "'We get a much more money and we need the border and during my father published support me millions of dollars and they all the school with them. And we were good. And we’ll have known all time by the ones in the migration. I wanted to work with the worst'"
      ]
     },
     "execution_count": 1,
     "metadata": {},
     "output_type": "execute_result"
    }
   ],
   "source": [
    "import numpy as np\n",
    "\n",
    "# Trump's speeches here: https://github.com/ryanmcdermott/trump-speeches\n",
    "trump = open('speeches.txt', encoding='utf8').read()\n",
    "\n",
    "corpus = trump.split()\n",
    "\n",
    "def make_pairs(corpus):\n",
    "    for i in range(len(corpus)-1):\n",
    "        yield (corpus[i], corpus[i+1])\n",
    "        \n",
    "pairs = make_pairs(corpus)\n",
    "\n",
    "word_dict = {}\n",
    "\n",
    "for word_1, word_2 in pairs:\n",
    "    if word_1 in word_dict.keys():\n",
    "        word_dict[word_1].append(word_2)\n",
    "    else:\n",
    "        word_dict[word_1] = [word_2]\n",
    " \n",
    "first_word = np.random.choice(corpus)\n",
    "\n",
    "while first_word.islower():\n",
    "    first_word = np.random.choice(corpus)\n",
    "\n",
    "chain = [first_word]\n",
    "\n",
    "n_words = 50\n",
    "\n",
    "for i in range(n_words):\n",
    "    chain.append(np.random.choice(word_dict[chain[-1]]))\n",
    "\n",
    "' '.join(chain)"
   ]
  }
 ],
 "metadata": {
  "kernelspec": {
   "display_name": "Python 3",
   "language": "python",
   "name": "python3"
  },
  "language_info": {
   "codemirror_mode": {
    "name": "ipython",
    "version": 3
   },
   "file_extension": ".py",
   "mimetype": "text/x-python",
   "name": "python",
   "nbconvert_exporter": "python",
   "pygments_lexer": "ipython3",
   "version": "3.6.5"
  }
 },
 "nbformat": 4,
 "nbformat_minor": 2
}
