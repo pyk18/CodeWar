{
 "cells": [
  {
   "cell_type": "markdown",
   "metadata": {},
   "source": [
    "# Hidden Markov Model in Python\n",
    "\n",
    "__Transition_Probability:__\n",
    "\n",
    "Rainy(0) --(0.6)--> Rainy\n",
    "Rainy(0) --(0.4)--> Sunny\n",
    "\n",
    "Sunny(1) --(0.8)--> Sunny\n",
    "Sunny(1) --(0.2)--> Rainy\n",
    "\n",
    "\n",
    "__Initial Probability:__\n",
    "\n",
    " Rainy = 0.33\n",
    " Sunny = 0.67\n",
    " \n",
    " __Emission Probability:__\n",
    " \n",
    " Rainy --(0.4)--> Happy(0)\n",
    " Rainy --(0.6)--> Grumpy(1)\n",
    " \n",
    " Sunny --(0.8)--> Happy(0)\n",
    " Sunny --(0.2)--> Grumpy(1)\n",
    " "
   ]
  },
  {
   "cell_type": "code",
   "execution_count": 46,
   "metadata": {},
   "outputs": [
    {
     "name": "stdout",
     "output_type": "stream",
     "text": [
      "Log probability of Observation = 0.0017071865856000017\n",
      "Squence (0:Rainy, 1: Sunny) = [1 1 0 0 0 1]\n"
     ]
    }
   ],
   "source": [
    "# States = ('Rainy', 'Sunny')\n",
    "# Observations = ('Happy', 'Grumpy')\n",
    " \n",
    "# start_probability = {'Rainy': 0.33, 'Sunny': 0.67}\n",
    " \n",
    "# transition_probability = {\n",
    "#    'Rainy' : {'Rainy': 0.6, 'Sunny': 0.4},\n",
    "#    'Sunny' : {'Rainy': 0.2, 'Sunny': 0.8},\n",
    "#    }\n",
    " \n",
    "# emission_probability = {\n",
    "#    'Rainy' : {'Happy': 0.4, 'Grumpy': 0.6 },\n",
    "#    'Sunny' : {'Happy': 0.8, 'Grumpy': 0.2 },\n",
    "#    }\n",
    "\n",
    "from hmmlearn import hmm\n",
    "import numpy as np\n",
    "import math\n",
    "model = hmm.MultinomialHMM(n_components=2) # Model Initialization\n",
    "model.startprob_ = np.array([0.33, 0.67]) #Start Probability\n",
    "model.transmat_ = np.array([[0.6, 0.4], # Transition Probabilities\n",
    "                            [0.2, 0.8]])\n",
    "model.emissionprob_ = np.array([[0.4, 0.6], # Emission Probabilities\n",
    "                                [0.8, 0.2]])\n",
    "\n",
    "#Observation Happy,Happy, Grumpy, Grumpy, Grumpy,Happy\n",
    "logprob, seq = model.decode(np.array([[0,0,1,1,1,0]]).transpose())\n",
    "print(\"Log probability of Observation = {}\\nSequence (0:Rainy, 1: Sunny) = {}\".format(math.exp(logprob),seq))"
   ]
  }
 ],
 "metadata": {
  "kernelspec": {
   "display_name": "Python 3",
   "language": "python",
   "name": "python3"
  },
  "language_info": {
   "codemirror_mode": {
    "name": "ipython",
    "version": 3
   },
   "file_extension": ".py",
   "mimetype": "text/x-python",
   "name": "python",
   "nbconvert_exporter": "python",
   "pygments_lexer": "ipython3",
   "version": "3.6.5"
  }
 },
 "nbformat": 4,
 "nbformat_minor": 2
}
