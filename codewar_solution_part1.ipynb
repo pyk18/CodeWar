{
 "cells": [
  {
   "cell_type": "markdown",
   "metadata": {},
   "source": [
    "# CodeWars Python problem and solutions.(Part 1)"
   ]
  },
  {
   "cell_type": "markdown",
   "metadata": {},
   "source": [
    "### Two Joggers\n",
    "__Description__\n",
    "Bob and Charles are meeting for their weekly jogging tour. They both start at the same spot called \"Start\" and they each run a different lap, which may (or may not) vary in length. Since they know each other for a long time already, they both run at the exact same speed.\n",
    "\n",
    "__Task__\n",
    "\n",
    "Your job is to complete the function __nbrOfLaps(x, y)__ that, given the length of the laps for Bob and Charles, finds the number of laps that each jogger has to complete before they meet each other again, at the same time, at the start.\n",
    "\n",
    "The function takes two arguments:\n",
    "\n",
    "    The length of Bob's lap (larger than 0)\n",
    "    The length of Charles' lap (larger than 0)\n",
    "\n",
    "\n",
    "The function should return an array __(Tuple<int, int> in C#)__ containing exactly two numbers:\n",
    "\n",
    "    The first number is the number of laps that Bob has to run\n",
    "    The second number is the number of laps that Charles has to run\n",
    "\n",
    "__Examples:__\n",
    "\n",
    "'nbr_of_laps(5, 3) # returns (3, 5)'\n",
    "'nbr_of_laps(4, 6); # returns (3, 2)'\n"
   ]
  },
  {
   "cell_type": "code",
   "execution_count": 1,
   "metadata": {},
   "outputs": [
    {
     "name": "stdout",
     "output_type": "stream",
     "text": [
      "Enter Laps of Bob and Charles (seprated by space): 3 4\n",
      "Bob ran 3 laps and Charles ran 4 Laps \n",
      "To meet each other the should run (4, 3) laps respectively.\n"
     ]
    }
   ],
   "source": [
    "def nbrOfLaps(x, y):\n",
    "    assert x > 0, \"Bob's Laps should be more that Zero\"\n",
    "    assert y > 0, \"Charles's Laps should be more that Zero\"\n",
    "    i=1\n",
    "    j=1\n",
    "    while True:\n",
    "        if x*i > y*j:\n",
    "            j+=1\n",
    "        elif x*i < y*j:\n",
    "            i+=1\n",
    "        elif x*i == y*j:\n",
    "            return(i,j)\n",
    "\n",
    "user_input = input(\"Enter Laps of Bob and Charles (seprated by space): \").split(\" \")\n",
    "print(\"Bob ran {} laps and Charles ran {} Laps \\nTo meet each other the should run {} laps respectively.\"\\\n",
    "      .format(user_input[0], user_input[1], nbrOfLaps(int(user_input[0]),int(user_input[1]))))\n"
   ]
  },
  {
   "cell_type": "markdown",
   "metadata": {},
   "source": [
    "A square of squares\n",
    "\n",
    "You like building blocks. You especially like building blocks that are squares. And what you even like more, is to arrange them into a square of square building blocks!\n",
    "\n",
    "However, sometimes, you can't arrange them into a square. Instead, you end up with an ordinary rectangle! Those blasted things! If you just had a way to know, whether you're currently working in vain… Wait! That's it! You just have to check if your number of building blocks is a perfect square.\n",
    "Task\n",
    "\n",
    "Given an integral number, determine if it's a square number:\n",
    "\n",
    "    In mathematics, a square number or perfect square is an integer that is the square of an integer; in other words, it is the product of some integer with itself.\n",
    "\n",
    "The tests will always use some integral number, so don't worry about that in dynamic typed languages.\n",
    "Examples\n",
    "\n",
    "is_square (-1) # => false\n",
    "is_square   0 # => true\n",
    "is_square   3 # => false\n",
    "is_square   4 # => true\n",
    "is_square  25 # => true\n",
    "is_square  26 # => false\n",
    "\n",
    "isSquare(-1) returns  false\n",
    "isSquare(0) returns   true\n",
    "isSquare(3) returns   false\n",
    "isSquare(4) returns   true\n",
    "isSquare(25) returns  true  \n",
    "isSquare(26) returns  false"
   ]
  },
  {
   "cell_type": "code",
   "execution_count": 2,
   "metadata": {},
   "outputs": [
    {
     "name": "stdout",
     "output_type": "stream",
     "text": [
      "Enter number to check if it's square: 24\n",
      "24: is not a Square Number !!\n"
     ]
    }
   ],
   "source": [
    "def is_square(n):\n",
    "    if n<2 and n>-1:\n",
    "        return True\n",
    "    if n<0:\n",
    "        return False\n",
    "    for i in range(n//2 + 1):\n",
    "        if i*i==n:\n",
    "            return True\n",
    "        if i*i > n:\n",
    "            break\n",
    "    return False\n",
    "user_input = input(\"Enter number to check if it's square: \")\n",
    "if is_square(int(user_input)):\n",
    "    print(\"{}: is a Square Number !!\".format(user_input))\n",
    "else:\n",
    "    print(\"{}: is not a Square Number !!\".format(user_input))"
   ]
  },
  {
   "cell_type": "markdown",
   "metadata": {},
   "source": [
    "__Description__\n",
    "Create a function named divisors/Divisors that takes an integer n > 1 and returns an array with all of the integer's divisors(except for 1 and the number itself), from smallest to largest. If the number is prime return the string '(integer) is prime' (null in C#) (use Either String a in Haskell and Result<Vec<u32>, String> in Rust).\n",
    "__Example:__\n",
    "\n",
    "divisors(12); #should return [2,3,4,6]\n",
    "divisors(25); #should return [5]\n",
    "divisors(13); #should return \"13 is prime\""
   ]
  },
  {
   "cell_type": "code",
   "execution_count": 3,
   "metadata": {},
   "outputs": [
    {
     "data": {
      "text/plain": [
       "[2, 3, 4, 6]"
      ]
     },
     "execution_count": 3,
     "metadata": {},
     "output_type": "execute_result"
    }
   ],
   "source": [
    "def divisors(integer):\n",
    "    factors = []\n",
    "    for i in range(2, integer//2+1):\n",
    "        if integer%i == 0:\n",
    "            factors.append(i)\n",
    "    if len(factors) == 0:\n",
    "        return str(integer)+\" is prime\"\n",
    "    else:\n",
    "        return factors\n",
    "\n",
    "divisors(12)"
   ]
  },
  {
   "cell_type": "markdown",
   "metadata": {},
   "source": [
    "__Description__\n",
    "\n",
    "In this kata you are required to, given a string, replace every letter with its position in the alphabet.\n",
    "\n",
    "If anything in the text isn't a letter, ignore it and don't return it.\n",
    "\n",
    "\"a\" = 1, \"b\" = 2, etc.\n",
    "Example\n",
    "\n",
    "alphabet_position(\"The sunset sets at twelve o' clock.\")\n",
    "\n",
    "Should return \"20 8 5 19 21 14 19 5 20 19 5 20 19 1 20 20 23 5 12 22 5 15 3 12 15 3 11\" (as a string)\n"
   ]
  },
  {
   "cell_type": "code",
   "execution_count": 4,
   "metadata": {},
   "outputs": [
    {
     "data": {
      "text/plain": [
       "'20 8 5 19 21 14 19 5 20 19 5 20 19 1 20 20 23 5 12 22 5 15 3 12 15 3 11'"
      ]
     },
     "execution_count": 4,
     "metadata": {},
     "output_type": "execute_result"
    }
   ],
   "source": [
    "def alphabet_position(text):\n",
    "    mylist = []\n",
    "    for mystr in text:\n",
    "        if mystr.isalpha():\n",
    "            mystr = mystr.upper()\n",
    "            for indexVal in map(ord, mystr):\n",
    "                mylist.append(indexVal-64)\n",
    "    str1 = ' '.join(str(e) for e in mylist)\n",
    "    return str1\n",
    "alphabet_position(\"The sunset sets at twelve o' clock.\")"
   ]
  },
  {
   "cell_type": "markdown",
   "metadata": {},
   "source": [
    "__Description__\n",
    "Given an array (arr) as an argument complete the function countSmileys that should return the total number of smiling faces.\n",
    "\n",
    "Rules for a smiling face:\n",
    "-Each smiley face must contain a valid pair of eyes. Eyes can be marked as : or ;\n",
    "-A smiley face can have a nose but it does not have to. Valid characters for a nose are - or ~\n",
    "-Every smiling face must have a smiling mouth that should be marked with either ) or D.\n",
    "No additional characters are allowed except for those mentioned.\n",
    "Valid smiley face examples:\n",
    ":) :D ;-D :~)\n",
    "Invalid smiley faces:\n",
    ";( :> :} :]\n",
    "\n",
    "Example cases:\n",
    "\n",
    "countSmileys([':)', ';(', ';}', ':-D']);       // should return 2;\n",
    "countSmileys([';D', ':-(', ':-)', ';~)']);     // should return 3;\n",
    "countSmileys([';]', ':[', ';*', ':$', ';-D']); // should return 1;\n",
    "\n",
    "\n",
    "Note: In case of an empty array return 0. You will not be tested with invalid input (input will always be an array). Order of the face (eyes, nose, mouth) elements will always be the same"
   ]
  },
  {
   "cell_type": "code",
   "execution_count": 5,
   "metadata": {},
   "outputs": [
    {
     "data": {
      "text/plain": [
       "2"
      ]
     },
     "execution_count": 5,
     "metadata": {},
     "output_type": "execute_result"
    }
   ],
   "source": [
    "def count_smileys(arr):\n",
    "    valid = [':)', ':D', ';D', ';)', ':-)', ':-D', ';-D', ';-)', ':~)', ':~D', ';~D', ';~)']\n",
    "    smilyCount = 0\n",
    "    for i in arr:\n",
    "        for x in valid:\n",
    "            if i==x:\n",
    "                smilyCount+=1\n",
    "    return smilyCount\n",
    "count_smileys([':)', ';(', ';}', ':-D'])"
   ]
  },
  {
   "cell_type": "markdown",
   "metadata": {},
   "source": [
    "__Description__\n",
    "You are given an array (which will have a length of at least 3, but could be very large) containing integers. The array is either entirely comprised of odd integers or entirely comprised of even integers except for a single integer N. Write a method that takes the array as an argument and returns this \"outlier\" N.\n",
    "Examples\n",
    "\n",
    "[2, 4, 0, 100, 4, 11, 2602, 36]\n",
    "Should return: 11 (the only odd number)\n",
    "\n",
    "[160, 3, 1719, 19, 11, 13, -21]\n",
    "Should return: 160 (the only even number)\n",
    "\n"
   ]
  },
  {
   "cell_type": "code",
   "execution_count": 6,
   "metadata": {},
   "outputs": [
    {
     "data": {
      "text/plain": [
       "11"
      ]
     },
     "execution_count": 6,
     "metadata": {},
     "output_type": "execute_result"
    }
   ],
   "source": [
    "def find_outlier(integers):\n",
    "    odd=[]\n",
    "    even=[]\n",
    "    for index in integers:\n",
    "        if index%2 == 0:\n",
    "            even.append(index)\n",
    "        else:\n",
    "            odd.append(index)\n",
    "    if len(odd)==1:\n",
    "        return next(iter(odd), None)\n",
    "    else: \n",
    "        return next(iter(even), None)\n",
    "find_outlier([2, 4, 0, 100, 4, 11, 2602, 36])"
   ]
  },
  {
   "cell_type": "markdown",
   "metadata": {},
   "source": [
    "Joey Greenhorn has a problem with his code. It is not returning the right values. Can you help him fix it?\n",
    "\n",
    "a = 10\n",
    "b = 20\n",
    "a, b = swap(a, b)\n",
    "print(a, b) # Should print out \"20, 10\", but \"20, 20\" gets printed out... HELP!"
   ]
  },
  {
   "cell_type": "code",
   "execution_count": 7,
   "metadata": {},
   "outputs": [
    {
     "data": {
      "text/plain": [
       "(20, 10)"
      ]
     },
     "execution_count": 7,
     "metadata": {},
     "output_type": "execute_result"
    }
   ],
   "source": [
    "def swap(a, b):\n",
    "    temp = a\n",
    "    a = b\n",
    "    b = temp\n",
    "    return a, b\n",
    "a = 10\n",
    "b = 20\n",
    "swap(a, b)"
   ]
  },
  {
   "cell_type": "markdown",
   "metadata": {},
   "source": [
    "__description__\n",
    "The Western Suburbs Croquet Club has two categories of membership, Senior and Open. They would like your help with an application form that will tell prospective members which category they will be placed.\n",
    "\n",
    "To be a senior, a member must be at least 55 years old and have a handicap greater than 7. In this croquet club, handicaps range from -2 to +26; the better the player the lower the handicap.\n",
    "Input\n",
    "\n",
    "Input will consist of a list of lists containing two items each. Each list contains information for a single potential member. Information consists of an integer for the person's age and an integer for the person's handicap.\n",
    "\n",
    "Note for F#: The input will be of (int list list) which is a List>\n",
    "Example Input\n",
    "\n",
    "[[18, 20],[45, 2],[61, 12],[37, 6],[21, 21],[78, 9]]\n",
    "\n",
    "Output\n",
    "\n",
    "Output will consist of a list of string values (in Haskell: Open or Senior) stating whether the respective member is to be placed in the senior or open category.\n",
    "Example Output\n",
    "\n",
    "[\"Open\", \"Open\", \"Senior\", \"Open\", \"Open\", \"Senior\"]\n"
   ]
  },
  {
   "cell_type": "code",
   "execution_count": 8,
   "metadata": {},
   "outputs": [
    {
     "data": {
      "text/plain": [
       "['Open', 'Open', 'Senior', 'Open', 'Open', 'Senior']"
      ]
     },
     "execution_count": 8,
     "metadata": {},
     "output_type": "execute_result"
    }
   ],
   "source": [
    "def openOrSenior(data):\n",
    "    List = []\n",
    "    for age,handicap in data:\n",
    "        if age > 54 and handicap > 7:\n",
    "          List.append(\"Senior\")\n",
    "        else:\n",
    "          List.append(\"Open\")\n",
    "    return List\n",
    "openOrSenior([[18, 20],[45, 2],[61, 12],[37, 6],[21, 21],[78, 9]])"
   ]
  },
  {
   "cell_type": "markdown",
   "metadata": {},
   "source": [
    "__Description__\n",
    "Simple, remove the spaces from the string, then return the resultant string."
   ]
  },
  {
   "cell_type": "code",
   "execution_count": 9,
   "metadata": {},
   "outputs": [
    {
     "data": {
      "text/plain": [
       "'ThisisasamplespacedstringabouttogetUgly'"
      ]
     },
     "execution_count": 9,
     "metadata": {},
     "output_type": "execute_result"
    }
   ],
   "source": [
    "def no_space(x):\n",
    "    g = \"\"\n",
    "    for i in x:\n",
    "        if not(i.isspace()):\n",
    "            g+=i\n",
    "    return g\n",
    "no_space(\"This is a sample spaced string about to get Ugly\")"
   ]
  },
  {
   "cell_type": "markdown",
   "metadata": {},
   "source": [
    "__Description__\n",
    "Given an array of one's and zero's convert the equivalent binary value to an integer.\n",
    "\n",
    "Eg: [0, 0, 0, 1] is treated as 0001 which is the binary representation of 1.\n",
    "\n",
    "Examples:\n",
    "\n",
    "Testing: [0, 0, 0, 1] ==> 1\n",
    "Testing: [0, 0, 1, 0] ==> 2\n",
    "Testing: [0, 1, 0, 1] ==> 5\n",
    "Testing: [1, 0, 0, 1] ==> 9\n",
    "Testing: [0, 0, 1, 0] ==> 2\n",
    "Testing: [0, 1, 1, 0] ==> 6\n",
    "Testing: [1, 1, 1, 1] ==> 15\n",
    "Testing: [1, 0, 1, 1] ==> 11\n",
    "\n",
    "However, the arrays can have varying lengths, not just limited to 4.\n"
   ]
  },
  {
   "cell_type": "code",
   "execution_count": 10,
   "metadata": {},
   "outputs": [
    {
     "data": {
      "text/plain": [
       "5"
      ]
     },
     "execution_count": 10,
     "metadata": {},
     "output_type": "execute_result"
    }
   ],
   "source": [
    "def binary_array_to_number(arr):\n",
    "    a=1\n",
    "    sum=0\n",
    "    for i in reversed(arr):\n",
    "        sum+=i*a\n",
    "        a*=2\n",
    "    return sum    \n",
    "binary_array_to_number([0, 1, 0, 1])"
   ]
  },
  {
   "cell_type": "markdown",
   "metadata": {},
   "source": [
    "__Description__\n",
    "Every week (Friday and Saturday night), the farmer and his son count amount of sheep returned to the yard of their farm.\n",
    "\n",
    "They count sheep on Friday night, the same goes for Saturday (suppose that sheep returned on Friday are not feeding back on hills on Saturday).\n",
    "\n",
    "As sheep are not coming in one flock, you will be given two arrays (one for each night) representing number of sheep as they were returning to the yard during the evenings (entries are positive ints, higher than zero).\n",
    "\n",
    "Farmer and his son know the total amount of their sheep, you will be given this number as third parameter.\n",
    "\n",
    "Your goal is to calculate the amount of sheep lost (not returned) to the farm after Saturday night counting.\n",
    "\n",
    "Example 1: Input: {1, 2}, {3, 4}, 15 --> Output: 5\n",
    "\n",
    "Example 2: Input: {3, 1, 2}, {4, 5}, 21 --> Output: 6"
   ]
  },
  {
   "cell_type": "raw",
   "metadata": {},
   "source": [
    "int lostSheep(const int *friday, const int* saturday, int total)\n",
    "{\n",
    "    int count=0, index = 0;\n",
    "    for( index = 0; friday[index] != 0 ; index ++)\n",
    "      count+=friday[index];\n",
    "    for( index = 0; saturday[index] != 0 ; index ++)\n",
    "      count+=saturday[index];\n",
    "    return (total-count);\n",
    "}\n",
    "# Code is written in C programing language"
   ]
  },
  {
   "cell_type": "markdown",
   "metadata": {},
   "source": [
    "__Description__\n",
    "This program tests the life of an evaporator containing a gas.\n",
    "\n",
    "We know the content of the evaporator (content in ml), the percentage of foam or gas lost every day (evap_per_day) and the threshold (threshold) in percentage beyond which the evaporator is no longer useful. All numbers are strictly positive.\n",
    "\n",
    "The program reports the nth day (as an integer) on which the evaporator will be out of use.\n",
    "\n",
    "Note : Content is in fact not necessary in the body of the function \"evaporator\", you can use it or not use it, as you wish. Some people might prefer to reason with content, some other with percentages only. It's up to you but you must keep it as a parameter because the tests have it as an argument."
   ]
  },
  {
   "cell_type": "code",
   "execution_count": 11,
   "metadata": {},
   "outputs": [],
   "source": [
    "def evaporator(content, evap_per_day, threshold):\n",
    "    thr = (content*threshold)*.01 \n",
    "    days=0\n",
    "    while (content > thr) :\n",
    "        days = days+1\n",
    "        content = content - (content*evap_per_day)*.01\n",
    "    return days"
   ]
  },
  {
   "cell_type": "markdown",
   "metadata": {},
   "source": [
    "__Description__\n",
    "You live in the city of Cartesia where all roads are laid out in a perfect grid. You arrived ten minutes too early to an appointment, so you decided to take the opportunity to go for a short walk. The city provides its citizens with a Walk Generating App on their phones -- everytime you press the button it sends you an array of one-letter strings representing directions to walk (eg. ['n', 's', 'w', 'e']). You always walk only a single block in a direction and you know it takes you one minute to traverse one city block, so create a function that will return true if the walk the app gives you will take you exactly ten minutes (you don't want to be early or late!) and will, of course, return you to your starting point. Return false otherwise.\n",
    "\n",
    "    Note: you will always receive a valid array containing a random assortment of direction letters ('n', 's', 'e', or 'w' only). It will never give you an empty array (that's not a walk, that's standing still!).\n",
    "\n"
   ]
  },
  {
   "cell_type": "code",
   "execution_count": 12,
   "metadata": {},
   "outputs": [],
   "source": [
    "def isValidWalk(walk):\n",
    "    minutes=0\n",
    "    x=0 \n",
    "    y=0\n",
    "    for i in walk:\n",
    "        minutes+=1\n",
    "        if str(i)=='n':\n",
    "            y+=1\n",
    "        elif str(i)=='s':\n",
    "            y-=1\n",
    "        elif str(i)=='e':\n",
    "            x+=1\n",
    "        elif str(i)=='w':\n",
    "            x-=1\n",
    "    if minutes==10 and x==0 and y==0:\n",
    "        return True\n",
    "    else:\n",
    "        return False\n"
   ]
  },
  {
   "cell_type": "markdown",
   "metadata": {},
   "source": [
    "### Camel Case Split   \n",
    " - Given a Text in form \"CamelCaseText\".\n",
    " - Popular format used in hashtags.\n",
    " - Write a code to split the hashtag and return string.\n",
    " "
   ]
  },
  {
   "cell_type": "code",
   "execution_count": 6,
   "metadata": {},
   "outputs": [
    {
     "name": "stdout",
     "output_type": "stream",
     "text": [
      "In Whole Wide World\n",
      "People Are Amazing\n"
     ]
    }
   ],
   "source": [
    "import re\n",
    "\n",
    "def splitter(identifier):\n",
    "    return \" \".join(re.split(\"(\\d+)\",identifier))\n",
    "\n",
    "def camel_case_split(identifier):\n",
    "    matches = re.finditer('.+?(?:(?<=[a-z])(?=[A-Z])|(?<=[A-Z])(?=[A-Z][a-z])|$)', identifier)\n",
    "    return \" \".join([splitter(m.group(0)) for m in matches])\n",
    "for i in ['InWholeWideWorld', 'PeopleAreAmazing']:\n",
    "    print('{}'.format(camel_case_split(i)))"
   ]
  }
 ],
 "metadata": {
  "kernelspec": {
   "display_name": "Python 3",
   "language": "python",
   "name": "python3"
  },
  "language_info": {
   "codemirror_mode": {
    "name": "ipython",
    "version": 3
   },
   "file_extension": ".py",
   "mimetype": "text/x-python",
   "name": "python",
   "nbconvert_exporter": "python",
   "pygments_lexer": "ipython3",
   "version": "3.6.5"
  }
 },
 "nbformat": 4,
 "nbformat_minor": 2
}
